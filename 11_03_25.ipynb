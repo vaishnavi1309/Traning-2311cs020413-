{
  "nbformat": 4,
  "nbformat_minor": 0,
  "metadata": {
    "colab": {
      "provenance": []
    },
    "kernelspec": {
      "name": "python3",
      "display_name": "Python 3"
    },
    "language_info": {
      "name": "python"
    }
  },
  "cells": [
    {
      "cell_type": "code",
      "execution_count": null,
      "metadata": {
        "id": "UAfGD5DNuat7"
      },
      "outputs": [],
      "source": [
        "from pandas import read_csv\n",
        "from sklearn.model_selection import KFold\n",
        "from sklearn.model_selection import cross_val_score\n",
        "from sklearn.ensemble import RandomForestClassifier"
      ]
    },
    {
      "cell_type": "code",
      "source": [
        "file_name='/content/pima-indians-diabetes.data.csv'\n",
        "names=['preg','plas','pres','skin','test','mass','pedi','age','class']\n",
        "dataframe=read_csv(file_name,names=names)\n",
        "array=dataframe.values"
      ],
      "metadata": {
        "id": "ZeJwwegcvcYT"
      },
      "execution_count": null,
      "outputs": []
    },
    {
      "cell_type": "code",
      "source": [
        "X=array[:,0:8]\n",
        "Y=array[:,8]"
      ],
      "metadata": {
        "id": "FhGgqNqPwdHR"
      },
      "execution_count": null,
      "outputs": []
    },
    {
      "cell_type": "code",
      "source": [
        "## parameters to model\n",
        "seed=7\n",
        "num_trees=100\n",
        "k_fold=kfold=KFold(n_splits=10,random_state=seed,shuffle=True)\n",
        "model=RandomForestClassifier(n_estimators=num_trees,max_features=3)\n",
        "result=cross_val_score(model,X,Y,cv=k_fold)\n",
        "print(result.mean())"
      ],
      "metadata": {
        "colab": {
          "base_uri": "https://localhost:8080/"
        },
        "id": "C66dCnytxkAY",
        "outputId": "bece0f94-8d86-43fa-caff-af48d97353f5"
      },
      "execution_count": null,
      "outputs": [
        {
          "output_type": "stream",
          "name": "stdout",
          "text": [
            "0.773462064251538\n"
          ]
        }
      ]
    },
    {
      "cell_type": "code",
      "source": [],
      "metadata": {
        "id": "fSe9Ykd2y1CY"
      },
      "execution_count": null,
      "outputs": []
    }
  ]
}